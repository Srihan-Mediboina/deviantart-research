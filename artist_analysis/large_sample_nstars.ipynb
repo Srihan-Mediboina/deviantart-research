{
 "cells": [
  {
   "cell_type": "code",
   "execution_count": 5,
   "id": "57cd17ee-24b2-400b-83e6-6f2e516e4499",
   "metadata": {},
   "outputs": [],
   "source": [
    "# browse daily deviations (collect usernames)\n",
    "# pass the usernames to get_deviations from scrape.py\n",
    "# run n_stars_diff"
   ]
  },
  {
   "cell_type": "code",
   "execution_count": 6,
   "id": "1dba3b53-7a56-45f2-b5aa-b6332d10965d",
   "metadata": {
    "tags": []
   },
   "outputs": [],
   "source": [
    "import deviantart\n",
    "from n_stars import n_stars_diff\n",
    "import time"
   ]
  },
  {
   "cell_type": "code",
   "execution_count": 7,
   "id": "af8ec971-9386-4910-b725-35d247a85483",
   "metadata": {
    "tags": []
   },
   "outputs": [],
   "source": [
    "da = deviantart.Api(29316, \"4ed6af8f905b519e6e05f82247ee7dee\")"
   ]
  },
  {
   "cell_type": "code",
   "execution_count": 8,
   "id": "86e536dc-6dab-4de2-b3f2-2a2557c52e57",
   "metadata": {
    "tags": []
   },
   "outputs": [],
   "source": [
    "offset_count = 0\n",
    "\n",
    "usernames1 = []\n",
    "with open('usernames.txt', 'r') as file:\n",
    "    usernames1 = file.readlines()\n",
    "    \n",
    "usernames2 = []\n",
    "\n",
    "while len(usernames2) < 50:\n",
    "    works = da.browse(endpoint='popular', limit=24, offset=offset_count)\n",
    "    for work in works['results']:\n",
    "        if (str(work.author) not in usernames1) and (str(work.author) not in usernames2):\n",
    "            usernames2.append(str(work.author))\n",
    "    \n",
    "    offset_count += 24\n",
    "    \n",
    "usernames2 = set(usernames2)\n",
    "usernames2 = list(usernames2)[:50]\n",
    "with open('usernames.txt', 'a') as file:\n",
    "    for username in usernames2:\n",
    "        file.write(f\"{username}\\n\")"
   ]
  },
  {
   "cell_type": "code",
   "execution_count": 9,
   "id": "6664276a-ca26-4694-9863-34dcfe0699be",
   "metadata": {
    "tags": []
   },
   "outputs": [],
   "source": [
    "differences = []\n",
    "\n",
    "for username in usernames2:\n",
    "    differences.append(n_stars_diff(\"https://www.deviantart.com/\" + str(username), da))"
   ]
  },
  {
   "cell_type": "code",
   "execution_count": 10,
   "id": "aba59015-25b9-4e58-8ea6-dd0a03c09d0b",
   "metadata": {
    "tags": []
   },
   "outputs": [],
   "source": [
    "with open('differences.txt', 'a') as file:\n",
    "    for diff in differences:\n",
    "        file.write(f\"{diff}\\n\")"
   ]
  }
 ],
 "metadata": {
  "kernelspec": {
   "display_name": "Python 3 (ipykernel)",
   "language": "python",
   "name": "python3"
  },
  "language_info": {
   "codemirror_mode": {
    "name": "ipython",
    "version": 3
   },
   "file_extension": ".py",
   "mimetype": "text/x-python",
   "name": "python",
   "nbconvert_exporter": "python",
   "pygments_lexer": "ipython3",
   "version": "3.11.4"
  }
 },
 "nbformat": 4,
 "nbformat_minor": 5
}
