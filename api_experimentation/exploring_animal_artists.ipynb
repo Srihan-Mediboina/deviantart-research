{
 "cells": [
  {
   "cell_type": "code",
   "execution_count": 1,
   "id": "8c443e57-a371-4afe-bf97-f4d4e02a2a37",
   "metadata": {
    "tags": []
   },
   "outputs": [],
   "source": [
    "import deviantart\n",
    "from datetime import datetime\n",
    "import json\n",
    "from scrape import get_deviations\n",
    "import pandas as pd\n",
    "import matplotlib.pyplot as plt"
   ]
  },
  {
   "cell_type": "code",
   "execution_count": 2,
   "id": "45d64d9b-4a9b-4cc3-91aa-4d2fb1e3beb0",
   "metadata": {
    "tags": []
   },
   "outputs": [],
   "source": [
    "def n_stars_diff(url):\n",
    "    da = deviantart.Api(29316, \"4ed6af8f905b519e6e05f82247ee7dee\")\n",
    "    \n",
    "    all_works = {}\n",
    "    all_works['title'] = []\n",
    "    all_works['comments'] = []\n",
    "    all_works['favourites'] = []\n",
    "    all_works['published_date'] = []\n",
    "    all_works['tags'] = []\n",
    "    all_works['daily_deviation_status'] = []\n",
    "    \n",
    "    username = url.split('/')[-1]\n",
    "    work_count = get_deviations(url)\n",
    "    offset_count = 0\n",
    "    \n",
    "    while work_count > 0:\n",
    "        works = da.get_gallery_folder(username=username, limit=24, offset=offset_count)\n",
    "        for work in works['results']:\n",
    "            tag_data = da.get_deviation_metadata(work.deviationid)[0]['tags']\n",
    "            tags = []\n",
    "            for tag in tag_data:\n",
    "                tags.append(tag['tag_name'])\n",
    "            all_works['title'].append(work.title)\n",
    "            all_works['comments'].append(work.stats['comments'])\n",
    "            all_works['favourites'].append(work.stats['favourites'])\n",
    "            all_works['published_date'].append(str(datetime.utcfromtimestamp(int(work.published_time))).split(' ')[0])\n",
    "            all_works['tags'].append(tags)\n",
    "            all_works['daily_deviation_status'].append((None != work.daily_deviation))\n",
    "            #all_works[work.title] = [work.stats, str(datetime.utcfromtimestamp(int(work.published_time))), tags, (None != work.daily_deviation)]\n",
    "        work_count -= 24\n",
    "        offset_count += 24\n",
    "        \n",
    "    df = pd.DataFrame(all_works)\n",
    "    df = df.sort_values(by='published_date')\n",
    "    \n",
    "    n_star = (df['favourites'][0], 0)\n",
    "    for i in range(1, len(df['favourites'])):\n",
    "        if df['favourites'][i] > n_star[0]:\n",
    "            n_star = (df['favourites'][i], i)\n",
    "            \n",
    "    n_doublestar = (df['favourites'][0], 0)\n",
    "    for i in range(1, len(df['favourites'])):\n",
    "        if df['favourites'][i] > n_doublestar[0] and i != n_star[1]:\n",
    "            n_doublestar = (df['favourites'][i], i)\n",
    "            \n",
    "    return abs(n_star[1] - n_doublestar[1])"
   ]
  },
  {
   "cell_type": "code",
   "execution_count": 22,
   "id": "8ae203cf-477e-4a57-bd22-aa7b28137248",
   "metadata": {
    "tags": []
   },
   "outputs": [],
   "source": [
    "differences = []\n",
    "animal_artists = [\"https://www.deviantart.com/thrumyeye\", \n",
    "\"https://www.deviantart.com/innocentium\",\n",
    " \"https://www.deviantart.com/hadissima\",\n",
    " \"https://www.deviantart.com/sergey-ryzhkov\",\n",
    " \"https://www.deviantart.com/thunderi\",\n",
    " \"https://www.deviantart.com/arkus83\",\n",
    " \"https://www.deviantart.com/metalwolf13fh\",\n",
    " \"https://www.deviantart.com/v-k-photography\",\n",
    " \"https://www.deviantart.com/kristynakvapilova\",\n",
    " \"https://www.deviantart.com/glenn0o7\",\n",
    " \"https://www.deviantart.com/quiet-bliss\",\n",
    " \"https://www.deviantart.com/patricksworld\",\n",
    " \"https://www.deviantart.com/zwergloh\",\n",
    " \"https://www.deviantart.com/trablamonron\",\n",
    " \"https://www.deviantart.com/hoofbeatsnpawprints\",\n",
    " \"https://www.deviantart.com/sorance\",\n",
    " \"https://www.deviantart.com/roisabborrar\",\n",
    " \"https://www.deviantart.com/charlyjade\",\n",
    " \"https://www.deviantart.com/hiiakay\",\n",
    " \"https://www.deviantart.com/ducondona\",\n",
    " \"https://www.deviantart.com/monsterbrand\",\n",
    " \"https://www.deviantart.com/azph\", \n",
    " \"https://www.deviantart.com/huskana\"]"
   ]
  },
  {
   "cell_type": "code",
   "execution_count": 23,
   "id": "b79a9dc2-db4a-4f8a-9901-a65e3083d0e6",
   "metadata": {
    "tags": []
   },
   "outputs": [],
   "source": [
    "for artist in animal_artists:\n",
    "    differences.append(n_stars_diff(artist))"
   ]
  },
  {
   "cell_type": "code",
   "execution_count": 24,
   "id": "fc7d066a-5bae-4acd-b6df-f7d58928c67c",
   "metadata": {
    "tags": []
   },
   "outputs": [
    {
     "data": {
      "text/plain": [
       "[464,\n",
       " 6,\n",
       " 0,\n",
       " 27,\n",
       " 92,\n",
       " 118,\n",
       " 8,\n",
       " 41,\n",
       " 113,\n",
       " 0,\n",
       " 262,\n",
       " 278,\n",
       " 146,\n",
       " 12,\n",
       " 231,\n",
       " 22,\n",
       " 105,\n",
       " 275,\n",
       " 64,\n",
       " 127,\n",
       " 20,\n",
       " 282,\n",
       " 2]"
      ]
     },
     "execution_count": 24,
     "metadata": {},
     "output_type": "execute_result"
    }
   ],
   "source": [
    "differences"
   ]
  },
  {
   "cell_type": "code",
   "execution_count": 25,
   "id": "42c363cf-97b2-4918-987e-957537bb546c",
   "metadata": {
    "tags": []
   },
   "outputs": [],
   "source": [
    "\n",
    "with open(\"output.txt\", \"w\") as file:\n",
    "    for item in differences:\n",
    "        file.write(\"%s\\n\" % item)\n"
   ]
  }
 ],
 "metadata": {
  "kernelspec": {
   "display_name": "Python 3 (ipykernel)",
   "language": "python",
   "name": "python3"
  },
  "language_info": {
   "codemirror_mode": {
    "name": "ipython",
    "version": 3
   },
   "file_extension": ".py",
   "mimetype": "text/x-python",
   "name": "python",
   "nbconvert_exporter": "python",
   "pygments_lexer": "ipython3",
   "version": "3.11.4"
  }
 },
 "nbformat": 4,
 "nbformat_minor": 5
}
